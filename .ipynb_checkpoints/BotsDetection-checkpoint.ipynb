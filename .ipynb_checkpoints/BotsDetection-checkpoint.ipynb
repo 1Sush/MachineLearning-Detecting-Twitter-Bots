{
 "cells": [
  {
   "cell_type": "code",
   "execution_count": 1,
   "metadata": {
    "collapsed": true
   },
   "outputs": [],
   "source": [
    "import pandas as pd\n",
    "import numpy as np"
   ]
  },
  {
   "cell_type": "code",
   "execution_count": 161,
   "metadata": {
    "collapsed": false
   },
   "outputs": [
    {
     "data": {
      "text/plain": [
       "(1056, 24)"
      ]
     },
     "execution_count": 161,
     "metadata": {},
     "output_type": "execute_result"
    }
   ],
   "source": [
    "filepath = 'C:/Users/jubin/Documents/GitHub/ML-TwitterBotDetection/data/'\n",
    "\n",
    "bots = pd.read_csv(open(filepath+'bots_data.csv', errors='ignore'))\n",
    "nonbots = pd.read_csv(open(filepath+'nonbots_data.csv', errors='ignore'))"
   ]
  },
  {
   "cell_type": "code",
   "execution_count": 163,
   "metadata": {
    "collapsed": false
   },
   "outputs": [
    {
     "data": {
      "text/plain": [
       "(1056, 24)"
      ]
     },
     "execution_count": 163,
     "metadata": {},
     "output_type": "execute_result"
    }
   ],
   "source": [
    "#bots[bots.listedcount>10000]\n",
    "condition = (bots.screen_name.str.contains(\"bot\", case=False)==True)|(bots.description.str.contains(\"bot\", case=False)==True)|(bots.location.isnull())|(bots.verified==False)\n",
    "\n",
    "bots['screen_name_binary'] = (bots.screen_name.str.contains(\"bot\", case=False)==True)\n",
    "bots['description_binary'] = (bots.description.str.contains(\"bot\", case=False)==True)\n",
    "bots['location_binary'] = (bots.location.isnull())\n",
    "bots['verified_binary'] = (bots.verified==False)\n",
    "bots.shape"
   ]
  },
  {
   "cell_type": "code",
   "execution_count": 164,
   "metadata": {
    "collapsed": false
   },
   "outputs": [
    {
     "data": {
      "text/plain": [
       "(1176, 24)"
      ]
     },
     "execution_count": 164,
     "metadata": {},
     "output_type": "execute_result"
    }
   ],
   "source": [
    "condition = (nonbots.screen_name.str.contains(\"bot\", case=False)==False)| (nonbots.description.str.contains(\"bot\", case=False)==False) |(nonbots.location.isnull()==False)|(nonbots.verified==True)\n",
    "\n",
    "nonbots['screen_name_binary'] = (nonbots.screen_name.str.contains(\"bot\", case=False)==False)\n",
    "nonbots['description_binary'] = (nonbots.description.str.contains(\"bot\", case=False)==False)\n",
    "nonbots['location_binary'] = (nonbots.location.isnull()==False)\n",
    "nonbots['verified_binary'] = (nonbots.verified==True)\n",
    "nonbots.shape"
   ]
  },
  {
   "cell_type": "code",
   "execution_count": 171,
   "metadata": {
    "collapsed": false
   },
   "outputs": [
    {
     "data": {
      "text/plain": [
       "(2232, 24)"
      ]
     },
     "execution_count": 171,
     "metadata": {},
     "output_type": "execute_result"
    }
   ],
   "source": [
    "df = pd.concat([bots, nonbots])"
   ]
  },
  {
   "cell_type": "markdown",
   "metadata": {},
   "source": [
    "### Using Decision Tree Classifier"
   ]
  },
  {
   "cell_type": "code",
   "execution_count": 174,
   "metadata": {
    "collapsed": false
   },
   "outputs": [],
   "source": [
    "from sklearn.model_selection import train_test_split\n",
    "train_df, test_df = train_test_split(df, test_size=0.2)"
   ]
  },
  {
   "cell_type": "code",
   "execution_count": 192,
   "metadata": {
    "collapsed": false
   },
   "outputs": [
    {
     "data": {
      "text/plain": [
       "0.92170022371364657"
      ]
     },
     "execution_count": 192,
     "metadata": {},
     "output_type": "execute_result"
    }
   ],
   "source": [
    "from sklearn.tree import DecisionTreeClassifier\n",
    "from sklearn.metrics import accuracy_score\n",
    "\n",
    "clf = DecisionTreeClassifier(criterion='entropy')\n",
    "\n",
    "#80%\n",
    "X_train = train_df[['screen_name_binary', 'description_binary', 'location_binary', 'verified_binary']] #train_data \n",
    "y_train = train_df['bot'] #train_target\n",
    "\n",
    "#20%\n",
    "X_test = test_df[['screen_name_binary', 'description_binary', 'location_binary', 'verified_binary']] #test_Data\n",
    "y_test = test_df['bot'] #test_target\n",
    "\n",
    "#Training on decision tree classifier\n",
    "model = clf.fit(X_train, y_train)\n",
    "\n",
    "#Predicting on test data\n",
    "predicted = model.predict(X_test)\n",
    "\n",
    "#Checking accuracy\n",
    "print(\"Decision Tree Classifier Accuracy: {0}\".format(accuracy_score(y_test, predicted)))"
   ]
  },
  {
   "cell_type": "markdown",
   "metadata": {},
   "source": [
    "### Using Random Forest Classifier"
   ]
  },
  {
   "cell_type": "code",
   "execution_count": 220,
   "metadata": {
    "collapsed": false
   },
   "outputs": [
    {
     "data": {
      "text/plain": [
       "0.92170022371364657"
      ]
     },
     "execution_count": 220,
     "metadata": {},
     "output_type": "execute_result"
    }
   ],
   "source": [
    "from sklearn.ensemble import RandomForestClassifier\n",
    "from sklearn.metrics import accuracy_score\n",
    "\n",
    "clf = RandomForestClassifier(min_samples_split=50, min_samples_leaf=200)\n",
    "\n",
    "#80%\n",
    "X_train = train_df[['screen_name_binary', 'description_binary', 'location_binary', 'verified_binary']] #train_data \n",
    "y_train = train_df['bot'] #train_target\n",
    "\n",
    "#20%\n",
    "X_test = test_df[['screen_name_binary', 'description_binary', 'location_binary', 'verified_binary']] #test_Data\n",
    "y_test = test_df['bot'] #test_target\n",
    "\n",
    "#Training on decision tree classifier\n",
    "model = clf.fit(X_train, y_train)\n",
    "\n",
    "#Predicting on test data\n",
    "predicted = model.predict(X_test)\n",
    "\n",
    "#Checking accuracy\n",
    "print(\"Random Forest Classifier Accuracy: {0}\".format(accuracy_score(y_test, predicted))"
   ]
  },
  {
   "cell_type": "markdown",
   "metadata": {},
   "source": [
    "### Using Multinomial Naive Bayes Classifier"
   ]
  },
  {
   "cell_type": "code",
   "execution_count": 222,
   "metadata": {
    "collapsed": false
   },
   "outputs": [
    {
     "data": {
      "text/plain": [
       "0.92170022371364657"
      ]
     },
     "execution_count": 222,
     "metadata": {},
     "output_type": "execute_result"
    }
   ],
   "source": [
    "from sklearn.naive_bayes import MultinomialNB\n",
    "from sklearn.metrics import accuracy_score\n",
    "\n",
    "clf = MultinomialNB(alpha=1, fit_prior=True)\n",
    "\n",
    "#80%\n",
    "X_train = train_df[['screen_name_binary', 'description_binary', 'location_binary', 'verified_binary']] #train_data \n",
    "y_train = train_df['bot'] #train_target\n",
    "\n",
    "#20%\n",
    "X_test = test_df[['screen_name_binary', 'description_binary', 'location_binary', 'verified_binary']] #test_Data\n",
    "y_test = test_df['bot'] #test_target\n",
    "\n",
    "#Training on decision tree classifier\n",
    "model = clf.fit(X_train, y_train)\n",
    "\n",
    "#Predicting on test data\n",
    "predicted = model.predict(X_test)\n",
    "\n",
    "#Checking accuracy\n",
    "print(\"MultinomialNB Classifier Accuracy: {0}\".format(accuracy_score(y_test, predicted))"
   ]
  },
  {
   "cell_type": "code",
   "execution_count": null,
   "metadata": {
    "collapsed": true
   },
   "outputs": [],
   "source": []
  }
 ],
 "metadata": {
  "kernelspec": {
   "display_name": "Python 3",
   "language": "python",
   "name": "python3"
  },
  "language_info": {
   "codemirror_mode": {
    "name": "ipython",
    "version": 3
   },
   "file_extension": ".py",
   "mimetype": "text/x-python",
   "name": "python",
   "nbconvert_exporter": "python",
   "pygments_lexer": "ipython3",
   "version": "3.6.0"
  }
 },
 "nbformat": 4,
 "nbformat_minor": 2
}
